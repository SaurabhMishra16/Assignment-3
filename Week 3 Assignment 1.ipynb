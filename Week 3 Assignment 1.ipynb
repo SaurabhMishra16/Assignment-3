{
 "cells": [
  {
   "cell_type": "markdown",
   "id": "4779ca8e-8d0e-40a5-9fc1-84ccac90813d",
   "metadata": {},
   "source": [
    "Q1. Which keyword is used to create a function? Create a function to return a list of odd numbers in the\n",
    "range of 1 to 25."
   ]
  },
  {
   "cell_type": "markdown",
   "id": "e50c79f2-c14c-4c43-9f28-46274db293d8",
   "metadata": {},
   "source": [
    "def keyword is used to create a function or define a function"
   ]
  },
  {
   "cell_type": "code",
   "execution_count": 2,
   "id": "ce3ba269-7138-43e1-b053-bd30eeff559e",
   "metadata": {},
   "outputs": [
    {
     "data": {
      "text/plain": [
       "[1, 3, 5, 7, 9, 11, 13, 15, 17, 19, 21, 23, 25]"
      ]
     },
     "execution_count": 2,
     "metadata": {},
     "output_type": "execute_result"
    }
   ],
   "source": [
    "def odd_number():\n",
    "    l = []\n",
    "    for i in range(1,26):\n",
    "        if i%2 != 0:\n",
    "            l.append(i)\n",
    "    return l\n",
    "odd_number()"
   ]
  },
  {
   "cell_type": "markdown",
   "id": "6658bffb-1d02-4a71-a261-d8db0b605f7f",
   "metadata": {},
   "source": [
    "Q2. Why *args and **kwargs is used in some functions? Create a function each for *args and **kwargs\n",
    "to demonstrate their use."
   ]
  },
  {
   "cell_type": "raw",
   "id": "ebaf7cff-1ec3-4814-8f2e-43d95f0e24f5",
   "metadata": {},
   "source": [
    "*args and **kwargs are used to unsure about the number of arguments to pass in the function"
   ]
  },
  {
   "cell_type": "code",
   "execution_count": 3,
   "id": "701bc64b-7934-446b-adbd-bebc8b9b96f4",
   "metadata": {},
   "outputs": [
    {
     "data": {
      "text/plain": [
       "([1, 2, 3, 4, 5], 23.5)"
      ]
     },
     "execution_count": 3,
     "metadata": {},
     "output_type": "execute_result"
    }
   ],
   "source": [
    "def argument(*args):\n",
    "    return args\n",
    "argument([1,2,3,4,5],23.5)"
   ]
  },
  {
   "cell_type": "code",
   "execution_count": 4,
   "id": "9031de0f-41e4-4a0a-b2f0-8996e9fdffed",
   "metadata": {},
   "outputs": [
    {
     "data": {
      "text/plain": [
       "{'name': 'saurabh', 'age': 23, 'course': 'Data science'}"
      ]
     },
     "execution_count": 4,
     "metadata": {},
     "output_type": "execute_result"
    }
   ],
   "source": [
    "def argument1(**kwargs):\n",
    "    return kwargs\n",
    "\n",
    "argument1(name = 'saurabh', age= 23, course = 'Data science')"
   ]
  },
  {
   "cell_type": "markdown",
   "id": "6db54e92-7084-40c5-b9c5-d93a843b882a",
   "metadata": {},
   "source": [
    "Q3.  What is an iterator in python? Name the method used to initialise the iterator object and the method\n",
    "used for iteration. Use these methods to print the first five elements of the given list [2, 4, 6, 8, 10, 12, 14,\n",
    "16, 18, 20]."
   ]
  },
  {
   "cell_type": "markdown",
   "id": "860c93d7-b739-4648-afae-51c097085328",
   "metadata": {},
   "source": [
    "An iterator in python is a object that is used to itrate over iterable object. like list,tuple,dict,set.\n",
    "iter() method used to intialise the iterator object and the method used for iteration."
   ]
  },
  {
   "cell_type": "code",
   "execution_count": 6,
   "id": "7c05c91a-3be6-49dc-b11d-9942fc1a7a0e",
   "metadata": {},
   "outputs": [
    {
     "data": {
      "text/plain": [
       "2"
      ]
     },
     "execution_count": 6,
     "metadata": {},
     "output_type": "execute_result"
    }
   ],
   "source": [
    "l = [2,4,6,8,10,12,15,16,18,20]\n",
    "l1= iter(l)\n",
    "next(l1)"
   ]
  },
  {
   "cell_type": "code",
   "execution_count": 7,
   "id": "e5d98e9e-e9ee-45a6-b830-5282c87fd3fc",
   "metadata": {},
   "outputs": [
    {
     "data": {
      "text/plain": [
       "4"
      ]
     },
     "execution_count": 7,
     "metadata": {},
     "output_type": "execute_result"
    }
   ],
   "source": [
    "next(l1)"
   ]
  },
  {
   "cell_type": "code",
   "execution_count": 8,
   "id": "167ed7ec-188d-4a6b-b851-6b60bf139da9",
   "metadata": {},
   "outputs": [
    {
     "data": {
      "text/plain": [
       "6"
      ]
     },
     "execution_count": 8,
     "metadata": {},
     "output_type": "execute_result"
    }
   ],
   "source": [
    "next(l1)"
   ]
  },
  {
   "cell_type": "code",
   "execution_count": 9,
   "id": "e912ce37-c7ea-4c46-b9bf-9c09c4b6cd92",
   "metadata": {},
   "outputs": [
    {
     "data": {
      "text/plain": [
       "8"
      ]
     },
     "execution_count": 9,
     "metadata": {},
     "output_type": "execute_result"
    }
   ],
   "source": [
    "next(l1)"
   ]
  },
  {
   "cell_type": "code",
   "execution_count": 10,
   "id": "69ab1b9d-f7e9-4eb1-8a97-677b9b6f86b8",
   "metadata": {},
   "outputs": [
    {
     "data": {
      "text/plain": [
       "10"
      ]
     },
     "execution_count": 10,
     "metadata": {},
     "output_type": "execute_result"
    }
   ],
   "source": [
    "next(l1)"
   ]
  },
  {
   "cell_type": "markdown",
   "id": "54d4c8ca-52cc-471f-9c8e-56dc1a6257cf",
   "metadata": {},
   "source": [
    "Q4.  What is a generator function in python? Why yield keyword is used? Give an example of a generator\n",
    "function."
   ]
  },
  {
   "cell_type": "raw",
   "id": "f5a191ce-9747-476b-8f57-012a495e880e",
   "metadata": {},
   "source": [
    "A generator is a special type of function which does not return a single value instead it returns an iterator object with a squence of value"
   ]
  },
  {
   "cell_type": "code",
   "execution_count": null,
   "id": "5d9e9bae-a425-4ebd-a9ad-a2e7ec2148ad",
   "metadata": {},
   "outputs": [],
   "source": [
    "yield function creates a normal function to a generator function. A type of function that is memory efficient and can be used like an \n",
    "iterater object"
   ]
  },
  {
   "cell_type": "code",
   "execution_count": 13,
   "id": "29d78480-d434-4d35-a130-4706b7d6316b",
   "metadata": {},
   "outputs": [
    {
     "name": "stdout",
     "output_type": "stream",
     "text": [
      "2\n",
      "4\n",
      "6\n",
      "8\n",
      "10\n",
      "12\n",
      "14\n",
      "16\n",
      "18\n",
      "20\n"
     ]
    }
   ],
   "source": [
    "def even_number(my_list):\n",
    "    for i in my_list:\n",
    "        if i % 2 == 0:\n",
    "            yield i\n",
    "my_list = [1,2,3,4,5,6,7,8,9,10,11,12,13,14,15,16,17,18,19,20]\n",
    "\n",
    "for i in even_number(my_list):\n",
    "    print(i)"
   ]
  },
  {
   "cell_type": "markdown",
   "id": "a5fc44b3-2f3b-4168-9aeb-f1d080a308a6",
   "metadata": {},
   "source": [
    "Q5. Create a generator function for prime numbers less than 1000. Use the next() method to print the\n",
    "first 20 prime numbers."
   ]
  },
  {
   "cell_type": "code",
   "execution_count": 66,
   "id": "3cf91402-7332-4ec6-b4d5-16bdfc33cac2",
   "metadata": {},
   "outputs": [
    {
     "name": "stdout",
     "output_type": "stream",
     "text": [
      "2\n",
      "3\n",
      "5\n",
      "7\n",
      "11\n",
      "13\n",
      "17\n",
      "19\n",
      "23\n",
      "29\n",
      "31\n",
      "37\n",
      "41\n",
      "43\n",
      "47\n",
      "53\n",
      "59\n",
      "61\n",
      "67\n",
      "71\n"
     ]
    }
   ],
   "source": [
    "def find_prime(num):\n",
    "    for i in range(2, num):\n",
    "        count = 0\n",
    "        for j in range(2,i):\n",
    "            if i%j == 0:\n",
    "                #print( str(i) + '   not prime')\n",
    "                count +=1\n",
    "        if count == 0:\n",
    "            yield i\n",
    "def print_prime():\n",
    "    print(next(f))\n",
    "\n",
    "f = iter(find_prime(1000))\n",
    "\n",
    "for i in range(0,20):\n",
    "    print_prime()"
   ]
  },
  {
   "cell_type": "markdown",
   "id": "2917771e-0255-435e-bfd3-008dbaa629ee",
   "metadata": {},
   "source": [
    "Q6. Write a python program to print the first 10 Fibonacci numbers using a while loop."
   ]
  },
  {
   "cell_type": "code",
   "execution_count": 4,
   "id": "ff5bbf4d-99d0-4669-a1a6-a38603b7a0d4",
   "metadata": {},
   "outputs": [
    {
     "name": "stdout",
     "output_type": "stream",
     "text": [
      "0\n",
      "1\n",
      "1\n",
      "2\n",
      "3\n",
      "5\n",
      "8\n",
      "13\n",
      "21\n",
      "34\n"
     ]
    }
   ],
   "source": [
    "def test_fib(n):\n",
    "    a,b = 0,1\n",
    "    while n > 0 :\n",
    "        yield a\n",
    "        a,b = b,a+b\n",
    "        n -= 1\n",
    "for i in test_fib(10):\n",
    "    print(i)"
   ]
  },
  {
   "cell_type": "markdown",
   "id": "c23f0bcb-20c3-407b-832e-b0c496883399",
   "metadata": {},
   "source": [
    "Q7. Write a List Comprehension to iterate through the given string: ‘pwskills’.\n",
    "\n",
    "Expected output: ['p', 'w', 's', 'k', 'i', 'l', 'l', 's'] "
   ]
  },
  {
   "cell_type": "code",
   "execution_count": 6,
   "id": "95cd9f8a-dc99-4b9f-80d5-fecb5312d6ba",
   "metadata": {},
   "outputs": [],
   "source": [
    "s = 'pwskills'"
   ]
  },
  {
   "cell_type": "code",
   "execution_count": 9,
   "id": "80dfa5a9-ccce-4f8b-8d7a-8b02928bb652",
   "metadata": {},
   "outputs": [
    {
     "data": {
      "text/plain": [
       "['p', 'w', 's', 'k', 'i', 'l', 'l', 's']"
      ]
     },
     "execution_count": 9,
     "metadata": {},
     "output_type": "execute_result"
    }
   ],
   "source": [
    "list(map(lambda x:x,s))"
   ]
  },
  {
   "cell_type": "markdown",
   "id": "2233f64f-6c09-48e2-a09b-c07edd5a45e4",
   "metadata": {},
   "source": [
    "Q8. Write a python program to check whether a given number is Palindrome or not using a while loop."
   ]
  },
  {
   "cell_type": "code",
   "execution_count": 6,
   "id": "d63b6ce0-7da7-43d8-b193-b640edc0c70b",
   "metadata": {},
   "outputs": [
    {
     "name": "stdin",
     "output_type": "stream",
     "text": [
      "Please Enter your number   :   121\n"
     ]
    },
    {
     "name": "stdout",
     "output_type": "stream",
     "text": [
      "121 is palindrome\n"
     ]
    }
   ],
   "source": [
    "def find_pali(num):\n",
    "    sum = 0\n",
    "    while num > 0:\n",
    "        s = num%10\n",
    "        sum = sum*10+s \n",
    "        num = num//10\n",
    "    return sum\n",
    "\n",
    "num = int(input(\"Please Enter your number   :  \"))\n",
    "sum = find_pali(num)\n",
    "if sum == num:\n",
    "    print(str(num) + ' is palindrome')\n",
    "else:\n",
    "    print(str(num) + '  is not palindrome')"
   ]
  },
  {
   "cell_type": "markdown",
   "id": "085f4053-05d2-4e0f-add8-3d3a214a5666",
   "metadata": {},
   "source": [
    "Q9. Write a code to print odd numbers from 1 to 100 using list comprehension."
   ]
  },
  {
   "cell_type": "code",
   "execution_count": 10,
   "id": "c6ba3de7-86b6-4d31-ae48-5ede3839d8a8",
   "metadata": {},
   "outputs": [
    {
     "data": {
      "text/plain": [
       "[1,\n",
       " 3,\n",
       " 5,\n",
       " 7,\n",
       " 9,\n",
       " 11,\n",
       " 13,\n",
       " 15,\n",
       " 17,\n",
       " 19,\n",
       " 21,\n",
       " 23,\n",
       " 25,\n",
       " 27,\n",
       " 29,\n",
       " 31,\n",
       " 33,\n",
       " 35,\n",
       " 37,\n",
       " 39,\n",
       " 41,\n",
       " 43,\n",
       " 45,\n",
       " 47,\n",
       " 49,\n",
       " 51,\n",
       " 53,\n",
       " 55,\n",
       " 57,\n",
       " 59,\n",
       " 61,\n",
       " 63,\n",
       " 65,\n",
       " 67,\n",
       " 69,\n",
       " 71,\n",
       " 73,\n",
       " 75,\n",
       " 77,\n",
       " 79,\n",
       " 81,\n",
       " 83,\n",
       " 85,\n",
       " 87,\n",
       " 89,\n",
       " 91,\n",
       " 93,\n",
       " 95,\n",
       " 97,\n",
       " 99]"
      ]
     },
     "execution_count": 10,
     "metadata": {},
     "output_type": "execute_result"
    }
   ],
   "source": [
    "def get_list():\n",
    "    l = []\n",
    "    for i in range(1,101):\n",
    "        l.append(i)\n",
    "    return l\n",
    "l1 = get_list()\n",
    "list(filter(lambda x : x%2!=0, l1))"
   ]
  },
  {
   "cell_type": "code",
   "execution_count": null,
   "id": "932aae20-835f-4ef4-bafe-52021ee6a907",
   "metadata": {},
   "outputs": [],
   "source": []
  },
  {
   "cell_type": "code",
   "execution_count": null,
   "id": "b89a9f78-6889-4c22-af7c-a50c70e8f036",
   "metadata": {},
   "outputs": [],
   "source": []
  },
  {
   "cell_type": "code",
   "execution_count": null,
   "id": "bb9bab6b-fd61-4e91-a8c9-5c1d9a292009",
   "metadata": {},
   "outputs": [],
   "source": []
  },
  {
   "cell_type": "code",
   "execution_count": null,
   "id": "94ea5cba-02c5-4564-bd2b-faebb9367c2d",
   "metadata": {},
   "outputs": [],
   "source": []
  },
  {
   "cell_type": "code",
   "execution_count": null,
   "id": "95e17585-6985-4763-a54a-472c91d4fc50",
   "metadata": {},
   "outputs": [],
   "source": []
  },
  {
   "cell_type": "code",
   "execution_count": null,
   "id": "bf23ef16-d475-4abc-ba55-bd0d541b5a7d",
   "metadata": {},
   "outputs": [],
   "source": []
  }
 ],
 "metadata": {
  "kernelspec": {
   "display_name": "Python 3 (ipykernel)",
   "language": "python",
   "name": "python3"
  },
  "language_info": {
   "codemirror_mode": {
    "name": "ipython",
    "version": 3
   },
   "file_extension": ".py",
   "mimetype": "text/x-python",
   "name": "python",
   "nbconvert_exporter": "python",
   "pygments_lexer": "ipython3",
   "version": "3.10.8"
  }
 },
 "nbformat": 4,
 "nbformat_minor": 5
}
